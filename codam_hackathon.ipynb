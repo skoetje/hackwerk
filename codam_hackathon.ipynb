{
 "cells": [
  {
   "cell_type": "code",
   "execution_count": 13,
   "id": "6a53eecd-e281-4cdd-9ede-8b7549720823",
   "metadata": {},
   "outputs": [],
   "source": [
    "# Inladen van data\n",
    "# Verkennen van data / visualiseren\n",
    "# Web applicatie\n",
    "# \n",
    "\n",
    "INFILE  = \"/Users/bramzijlstra/git/kvk/pocs/012_hackwerk/files/Ondernemingen.json\"\n",
    "OUTFILE = \"/Users/bramzijlstra/git/kvk/pocs/012_hackwerk/output/test.json\"\n",
    "\n",
    "total = 0\n",
    "import ijson\n",
    "from pathlib import Path    \n",
    "from pprint import pprint\n",
    "Path(OUTFILE).parent.mkdir(parents=True, exist_ok=True)  \n",
    "\n",
    "data = []\n",
    "\n",
    "with open(INFILE, \"r\", encoding=\"utf-8\") as fin, open(OUTFILE, \"w\", encoding=\"utf-8\") as fout:     \n",
    "     # We schrijven een geldige JSON-array, streamend.                                            \n",
    "     fout.write(\"[\")                                                                              \n",
    "     first_out = True                                                                              \n",
    "                                                                                                  \n",
    "     iterator = ijson.items(fin, \"item\")                                                           \n",
    "                                                                                                  \n",
    "     for obj in iterator:\n",
    "         plaats = obj[\"Plaats_RechtsPersoon\"]\n",
    "         if plaats in ['Amsterdam', 'Rotterdam', 'Utrecht', 'Eindhoven'] and obj['BedrijfsOmschrijving']:\n",
    "             data.append(obj)\n",
    "             \n",
    "             total += 1\n",
    "\n",
    "         else:\n",
    "             continue\n",
    "    \n",
    "         if total > 99:\n",
    "             break"
   ]
  },
  {
   "cell_type": "code",
   "execution_count": 25,
   "id": "7c17a5f9-92d3-4d6a-bafa-3fea5bc2068a",
   "metadata": {},
   "outputs": [
    {
     "name": "stdout",
     "output_type": "stream",
     "text": [
      "Het leveren van verantwoorde medisch specialistische zorg op het gebied van orthopedie; het verlenen van medische en humanitaire hulp aan Suriname in samenwerking met daarvoor in aanmerking komende instellingen en organisaties\n",
      "Tegen vergoeding aanbieden van netwerkplekken tijdens een netwerkevenement\n",
      "Het uitoefenen van een onderneming, welke zich bezig houdt:\n",
      "- met medische specialistische zorgverlening;\n",
      "- aanvullende medische en paramedische zorgverlening.\n",
      "Het realiseren van diensten in zorg en welzijn.\n",
      "Het bevorderen van de mogelijkheden tot sportbeoefening;\n",
      "het creëren van werkgelegenheid in de sport, waaronder\n",
      "de mogelijkheden tot stages\n",
      "Buitenschoolse opvang op sport gericht\n",
      "Het voorlichten en adviseren van woningeigenaren en/of VvE's die energiebesparende maatregelen willen nemen\n",
      "Advies en automatisering, zijnde het ontwikkelen (programmeren, ontwerpen van programmatuur, alsmede het beheren van deze systemen. In het bijzonder daar waar burgerrechten, mensenrechten en beveiliging relateren aan automatisering, zijnde elk gebied waar het gebruik van automatisering consequenties hebben voor deze rechten en of de uitvoer daarvan.\n",
      "Het uitvoeren, begeleiden en organiseren van promotionele activiteiten, het ontplooien en begeleiden van commerciéle activiteiten op handelsgebied in binnen- en buitenland, alsmede het beheren van aandelen en vermogen\n",
      "Het leveren van verantwoorde medische specialistische zorg op het gebied van Geestelijke Gezondheidszorg (GGZ) en somatische revalidatie.\n",
      "Het leveren van verantwoorde medisch specialistische zorg op het gebied van dermatologie\n",
      "Verkoop tweedehands kleding\n",
      "Beheren, beleggen en exploiteren, bezitten, verkrijgen en vervreemden van aandelen in andere vennootschappen, van alle andere lichamelijke en onlichamelijke zaken.\n",
      "Scholing aan (langdurig) werklozen m.b.t.\n",
      "het voorbereiden op de arbeidsmarkt.\n",
      "De im en export van goederen, het reinigen van\n",
      "vloeren, muren, gebouwen, het kopen, huren- en\n",
      "verhuren, verbouwen, bouwen en renoveren van\n",
      "registergoederen, alsmede het deelnemen in\n",
      "andere vennootschappen en/of andere\n",
      "ondernemingen.\n",
      "Het geven van advies aan bedrijven met\n",
      "betrekking tot internet\n",
      "Management- en organisatie-adviezen\n",
      "Uitgeverij van internetpagina's\n",
      "Film en video productie (ook voor televisie)\n",
      "Film en video postproductie (ook voor\n",
      "televisie)\n",
      "Productie voor film en video (ook voor\n",
      "televisie)\n",
      "Organiseren tentoonstellingen en bijeenkomsten\n",
      "op cultureel vlak\n",
      "Organiseren uitwisselingsprogramma's op\n",
      "cultureel vlak\n",
      "Bouwen en onderhouden van websites\n",
      "Winkel in gerecyclede kleding. Het leveren van duurzaam advies en eductatie.\n",
      "Constructiebedrijf. Ter beschikking stellen van arbeid.\n",
      "het uitgeven van boeken, tijdschriften en overige publicaties\n",
      "Het exploiteren van een brasserie, alsmede\n",
      "een zalen- en vergadercentrum\n",
      "Sociaal ondernemerschap onder studenten stimuleren door het opzetten van kleinschalige duurzame projecten. De projecten zullen op een kleine schaal producten verkopen. Online verkoop van bakkit op basis van krekelmeel en duurzame en hervulbare verpakkingen met drogisterijartikelen.\n",
      "Bevorderen en uitoefenen van mediation, geven\n",
      "van opleidingen en trainingen op dit gebied\n",
      "Apotheek en holdingactiviteiten\n",
      "Dienstverlening aan derden / produktie van\n",
      "culturele evenementen.\n",
      "Exploiteren van verhuurwoningen\n",
      "Het stimuleren van de schaaksport door het\n",
      "organiseren van wedstrijden en toernooien en\n",
      "het verzorgen en verkopen van publikaties\n",
      "Het houden van aandelen van PSV N.V. en het\n",
      "bevorderen van het voetbal en andere sporten in\n",
      "het algemeen\n",
      "Uitgeven van posters, briefkaarten en\n",
      "dichtbundels/boeken\n",
      "Trainings- en leermethoden met de daarbij\n",
      "behorende middelen te (doen) ontwikkelen,\n",
      "produceren en verspreiden. Het (doen) uitvoeren\n",
      "van voorlichtings- en promotie-activiteiten\n",
      "Autorijschool\n",
      "Boekhandel\n",
      "Het behartigen van de belangen van als deelne-\n",
      "mers aan de stichting verbonden L.M.V.-\n",
      "makelaars.\n",
      "Groothandel en import van auto's; verhuur van auto's en boten; ondersteuning van een politieke partij; uitgeverij, beeldend kunstenaar, leasen van auto's, autouitlaatproductie, ontwikkelen van woonconcepten, geven van rijvaardigheidstrainingen, handel in onroerende zaken.\n",
      "De opzet en exploitatie van mini-ondernemingen\n",
      "Detailhandel en groothandel van verpleeg- en\n",
      "revalidatie artikelen\n",
      "Het ontwikkelen, beheren en exploiteren van een internationaal certificeringsprogramma met certificeringslabel voor duurzame biomassa.\n",
      "Het bieden van begeleide dagbesteding (werkervaringsplaatsten) op allerlei gebied, aan mensen met autisme of en andere arbeidshandicap, voor wie het vinden van een plaats in het reguliere arbeidsproces moeilijk of onmogelijk is \n",
      "het ten behoeve van leden uitonderhandelen en\n",
      "aangaan van leverantieovereenkomsten met derden\n",
      "voor diensten en produkten die een vaste last\n",
      "vormen, waaronder begrepen doch niet beperkt\n",
      "leverantie van gas, elektriciteit, water, door\n",
      "het afsluiten van overeenkomsten met de leden\n",
      "in het bedrijf dat de cooperatie ten behoeve\n",
      "van de leden uitoefent of doet uitoefenen\n",
      "Innovatie-architectuur.\n",
      "Het ontwikkelen en uitvoeren van projecten om\n",
      "de situatie van allochtonen op het gebied van\n",
      "welzijn, zorg, educatie en de arbeidsmarkt te\n",
      "verbeteren; het doen van onderzoek, het geven\n",
      "van advies en consulten op genoemde terreinen,\n",
      "alsmede het organiseren van cursussen en\n",
      "trainingen\n",
      "Bekendheid geven aan mediation en het stimuleren van de toepassing daarvan. Het geven van workshops en intervisies op het gebied van en gerelateerd aan mediation. Organiseren van netwerkbijeenkomsten.\n",
      "Leveren van diensten op telecommunicatiegebied.\n",
      "Artiestenbureau\n",
      "Exploiteren van een kapperszaak voor heren,\n",
      "speciaal voor de Marokkaanse gemeenschap, doch\n",
      "ook Europes-Aziatisch\n",
      "het aanbieden van cursussen op het gebied van\n",
      "onder andere talen, economie en handel;\n",
      "ontwikkelen en uitgeven van cursusmateriaal;\n",
      "uitgeven van literaire, audio- en audiovisuele\n",
      "producties, waaronder cd's, digitale muziek,\n",
      "dvd's, boeken en tijdschriften;\n",
      "inkomsten ontvangen uit auteursrechten over de\n",
      "verkoop van literaire, audio- en audiovisuele\n",
      "producties, waaronder cd's, digitale muziek,\n",
      "dvd's, boeken en tijdschriften;\n",
      "het exploiteren en handhaven van de aan de\n",
      "stichting toevertrouwde en overgedragen\n",
      "literaire en audio- en audiovisuele rechten,\n",
      "zowel nationaal als internationaal\n",
      "Het organiseren van congressen, workshops en\n",
      "seminars in de meest brede zin des woords ten\n",
      "behoeve van de vereniging \"Nederlandse\n",
      "Vereniging voor Endoscopische Chirurgie\"\n",
      "Houdstermaatschappij\n",
      "Communicatie (audiovisueel, marketing, reclame,\n",
      "advies), projectmanagement en IT-oplossingen\n",
      "(producten en beheer) ten behoeve van bedrijven\n",
      "organisaties en overheden, waarbij de focus\n",
      "ligt op community building en het bevorderen\n",
      "van sociale cohesie en onderlinge samenwerking\n",
      "Verhuur atelierruimten.\n",
      "Het verkopen van voetbal gerelateerde producten.  \n",
      "\n",
      "Presentatie platform voor fotografie, maken van fotografische tentoonstellingen waarmee makers in contact kunnen komen met publiek. Ontwikkelen van educatieve programma's voor professionele fotografen, algemeen publiek en middelbare scholen.\n",
      "Uitoefening praktijk voor medisch\n",
      "specialistische zorg op het gebied van\n",
      "oogheelkunde\n",
      "Creatie van choreografieën\n",
      "Lunchroom\n",
      "Productie/essemblage en re-integratieactivi-\n",
      "teiten\n",
      "Het verhuren en beheren van woningen.\n",
      "Het leveren van gespecialiseerde verpleging en\n",
      "ziekenhuisverplaatste zorg en het leveren van\n",
      "medisch specialistische zorg en paramedisch\n",
      "zorg\n",
      "Het bevorderen van elektronische informatie-uitwisseling en administratie voeren voor andere ondernemingen. \n",
      "Detachering en opleiden van personeel in de\n",
      "beveiligingsbranche. Ter beschikking stellen van\n",
      "arbeidskrachten.\n",
      "Het organiseren en produceren van dansvoorstellingen op basis- en middelbare scholen tegen betalingen.\n",
      "Het verrichten, doen verrichten of ondersteunen\n",
      "van kansrijk onderzoek en ontwikkeling op het\n",
      "gebied van de informatica, micro electronica,\n",
      "de bio-, materiaal en milieutechnologieen.\n",
      "Het houden van toezicht op de exploitatie van\n",
      "teakhout alsmede de verkoop van rechten op\n",
      "(de vruchten van) teakhout en teakbomen.\n",
      "Onderhoudswerkzaamheden in de metaalsector aan\n",
      "machines e.d.; het uitlenen van personeel in de bouw- en in de metaalsector\n",
      "Uitoefening van de praktijk voor\n",
      "anesthesiologische pijnbestrijding.\n",
      "De exploitatie van een broodjeszaak en het\n",
      "bezorgen van diverse maaltijden.\n",
      "Het beheren van een onderneming\n",
      "Het oprichten en verwerven van, het deelnemen in, het samenwerken met, het besturen van, alsmede het (doen) financieren van andere ondernemingen, in welke rechtsvorm ook\n",
      "Exploitatie van onroerende goederen.\n",
      "De groot- en kleinhandel (verkoop op\n",
      "bestelling) in hard- en software\n",
      "Verhuren en beheren van woningen cq woon-\n",
      "complexen.\n",
      "Optreden als trustee en het verzorgen van\n",
      "administraties van effecten.\n",
      "Drukkerij/ontwerpatelier\n",
      "Winkel (galerie) in kunstwerken.\n",
      "Het verzorgen van theatervoorstellingen wordt\n",
      "gedreven onder de handelsnaam Theater-Galerie\n",
      "Kralingen.\n",
      "Het deelnemen in, het voeren van beheer over\n",
      "andere ondernemingen en vennootschappen.\n",
      "Het geven van voorlichting en het dienstbaar\n",
      "maken van onderzoeken, adviezen en ontwerpen\n",
      "Bevorderen van computeronderwijs aan\n",
      "volwassenen.\n",
      "Het produceren van films.\n",
      "Advisering bij de organisatie van tentoonstel-\n",
      "lingen en andere presentaties\n",
      "Evangelische boekwinkel.\n",
      "Het beheren van eigen vermogen\n",
      "Exploitatie van een logger, zeilles geven met\n",
      "een idealistisch doel\n",
      "Het (doen) ontwikkelen, het beheren, exploite-\n",
      "ren van gebouwen in de sfeer van het welzijns-\n",
      "werk en in het verlengde daarvan\n",
      "Het ontwikkelen, fabriceren en de groothandel\n",
      "(daaronder begrepen de im- en export) in\n",
      "fitnessapparatuur\n",
      "Training en innovatie\n",
      "uitgeverij\n",
      "bedrijfsanalyse en advisering\n",
      "Het voeren van een uitgeverij en het verkopen\n",
      "van boeken op het vakgebied van architectuur,\n",
      "stedebouw, landschaps- en interieurarchitectuur\n",
      "en kunst\n",
      "Klussenbedrijf voor ouderen\n",
      "Beheersmaatschappij\n",
      "De handel waaronder begrepen doch niet beperkt tot de import, export en postorderverkoop - in elektronische beveiligings-, bewakings-, registratie- en opsporingsapparatuur. Groothandel in Smartphones en Tablet-pc's.\n",
      "Winkelverkoop van produkten uit ontwikkelings-\n",
      "landen en het geven van informatie over deze\n",
      "landen\n",
      "Dienstverlening voor kunstbeoefening en organisatie van culturele evenementen.\n",
      "Het aanbieden van een verloningsservice voor artiesten en overige opdrachtnemers in de culturele sector. Het ter beschikking stellen van arbeidskrachten.\n",
      "Het drijven van een adviesbureau in kwaliteitszorg, projectmanagement en automatisering, het\n",
      "verrichten van consultancy en interim management alsmede systeemimplementatie, beheer en holding activiteiten en het beleggen van gelden. Ter beschikking stellen van arbeidskrachten.\n",
      "Het verrichten van onderhoudswerkzaamheden\n",
      "aan en in onroerende-zaken (klussenbedrijf).\n",
      "Het beheren, administreren en (ver)huren van\n",
      "onroerende-zaken onder de mede-handelsnaam:\n",
      "\"De Koepel\" Vastgoed.\n",
      "Jongereninformatie- en ontmoetingspunt. Het geven van voorlichting aan jongeren. Het uitoefenen van sociale activiteiten, sport en recreatie.\n",
      "Bemiddeling voor beeldend kunstenaars in de\n",
      "ruimste zin, uitvoer projekten beeldende kunst.\n",
      "Ondersteuning expositieruimte\n",
      "Detailhandel in (eerlijke) producten uit derde\n",
      "wereld landen en het geven van informatie over\n",
      "de producten\n",
      "Het initiëren van maatschappelijke nutbeogende\n",
      "sociaal commerciële projecten, voor migranten\n",
      "en overige doelgroepen in Nederland/Rotterdam\n",
      "en niet westerse landen. Te weten eerste\n",
      "instantie o.a. in Suriname en Ghana.\n",
      "Het bemiddelen, bevorderen van werkvoorziening\n",
      "en detacheren van werkloze personeel/jongeren\n",
      "bij, wel of niet vrijwillig binnen maatschap-\n",
      "pelijk nuttig activerende werkprojecten.\n",
      "Het bieden ter ondersteuning aan cliënten van\n",
      "algemeen maatschappelijke hulp (maatschappelijk\n",
      "werk) ten behoeve van sociaal problematiek.\n",
      "Het bijstaan en bemiddelen t.b.v. cliënten bij\n",
      "algemene instellingen, gerechtelijke en/of\n",
      "beroepsprocedures.\n",
      "Bemiddeling personeel voor tijdelijk welzijns-\n",
      "werk\n",
      "Het organiseren, doen organiseren,\n",
      "mede-organiseren, begeleiden en coördineren van\n",
      "reizen, waaronder Pelgrimsreizen, Hadj-reizen\n",
      "en Umrah-reizen (100-500 personen of meer), cultuurreizen, studiereizen,\n",
      "internationale congres, studieweekeinden.\n",
      "In- en verkoop van tickets.\n",
      "Het exploiteren van een reisbureau.\n",
      "In- en verkoop van boeken, geluidsdragers, multimedia. cadeauartikelen en kaarten\n",
      "Het verrichtten van geneeskunde in de ruimste zin des woords, waaronder dermatologie, venerologie en flebologie\n"
     ]
    }
   ],
   "source": [
    "for i in data:\n",
    "    print(i['BedrijfsOmschrijving'])"
   ]
  },
  {
   "cell_type": "code",
   "execution_count": 16,
   "id": "f8574fab-a6c7-4987-b13c-1ae55d58e451",
   "metadata": {},
   "outputs": [],
   "source": [
    "import streamlit as st\n",
    "import pandas as pd\n",
    "from geopy.geocoders import Nominatim\n",
    "import time"
   ]
  },
  {
   "cell_type": "code",
   "execution_count": 17,
   "id": "782d1133-5f9d-4047-8619-c51995aa49b0",
   "metadata": {},
   "outputs": [
    {
     "name": "stderr",
     "output_type": "stream",
     "text": [
      "2025-09-19 08:11:16.805 WARNING streamlit.runtime.scriptrunner_utils.script_run_context: Thread 'MainThread': missing ScriptRunContext! This warning can be ignored when running in bare mode.\n",
      "2025-09-19 08:11:16.890 \n",
      "  \u001b[33m\u001b[1mWarning:\u001b[0m to view this Streamlit app on a browser, run it with the following\n",
      "  command:\n",
      "\n",
      "    streamlit run /Users/bramzijlstra/.pyenv/versions/3.10.10/envs/kvk_main/lib/python3.10/site-packages/ipykernel_launcher.py [ARGUMENTS]\n",
      "2025-09-19 08:11:16.890 Thread 'MainThread': missing ScriptRunContext! This warning can be ignored when running in bare mode.\n"
     ]
    },
    {
     "data": {
      "text/plain": [
       "DeltaGenerator()"
      ]
     },
     "execution_count": 17,
     "metadata": {},
     "output_type": "execute_result"
    }
   ],
   "source": [
    "df = pd.DataFrame(data)\n",
    "\n",
    "geolocator = Nominatim(user_agent=\"plaats-mapper\")\n",
    "\n",
    "# Coördinaten ophalen\n",
    "latitudes, longitudes = [], []\n",
    "for plaats in df[\"Plaats_RechtsPersoon\"]:\n",
    "    loc = geolocator.geocode(f\"{plaats}, Nederland\")\n",
    "    if loc:\n",
    "        latitudes.append(loc.latitude)\n",
    "        longitudes.append(loc.longitude)\n",
    "    else:\n",
    "        latitudes.append(None)\n",
    "        longitudes.append(None)\n",
    "    time.sleep(1)  # om blokkeren te voorkomen\n",
    "\n",
    "df[\"lat\"] = latitudes\n",
    "df[\"lon\"] = longitudes\n",
    "\n",
    "# Plotten in Streamlit\n",
    "st.map(df[[\"lat\", \"lon\"]])"
   ]
  },
  {
   "cell_type": "code",
   "execution_count": 21,
   "id": "a6b04d5e-431f-4f82-8034-457ecc854253",
   "metadata": {},
   "outputs": [],
   "source": [
    "df = pd.DataFrame(data) \n",
    "import numpy as np\n",
    "# Bounding box ranges per stad (lat_min, lat_max, lon_min, lon_max)\n",
    "ranges = {\n",
    "    \"Amsterdam\": (52.28, 52.43, 4.73, 5.02),\n",
    "    \"Utrecht\":   (52.05, 52.14, 5.04, 5.18),\n",
    "    \"Rotterdam\": (51.85, 51.98, 4.38, 4.61),\n",
    "    \"Eindhoven\": (51.38, 51.51, 5.38, 5.53),\n",
    "}\n",
    "\n",
    "# Functie om random lat/lon te genereren\n",
    "def random_coords(city):\n",
    "    if city not in ranges:\n",
    "        return (np.nan, np.nan)\n",
    "    lat_min, lat_max, lon_min, lon_max = ranges[city]\n",
    "    lat = np.random.uniform(lat_min, lat_max)\n",
    "    lon = np.random.uniform(lon_min, lon_max)\n",
    "    return lat, lon\n",
    "\n",
    "# Toepassen op de DataFrame\n",
    "df[[\"lat\", \"lon\"]] = df[\"Plaats_RechtsPersoon\"].apply(lambda c: pd.Series(random_coords(c)))\n"
   ]
  },
  {
   "cell_type": "code",
   "execution_count": 23,
   "id": "3a06146f-c3ff-4d33-92fa-5bc42471cc7c",
   "metadata": {},
   "outputs": [],
   "source": [
    "df.to_csv(\"kvk_data_codam.csv\", index=False)"
   ]
  },
  {
   "cell_type": "code",
   "execution_count": 43,
   "id": "4a58c6d0-969b-4e26-98a6-8beeb96bb205",
   "metadata": {},
   "outputs": [
    {
     "data": {
      "text/markdown": [
       "# Kaart van Nederland – punten per rij"
      ],
      "text/plain": [
       "<IPython.core.display.Markdown object>"
      ]
     },
     "metadata": {},
     "output_type": "display_data"
    },
    {
     "name": "stderr",
     "output_type": "stream",
     "text": [
      "2025-09-18 17:01:10.276 Thread 'MainThread': missing ScriptRunContext! This warning can be ignored when running in bare mode.\n",
      "2025-09-18 17:01:10.279 Thread 'MainThread': missing ScriptRunContext! This warning can be ignored when running in bare mode.\n",
      "2025-09-18 17:01:10.279 Thread 'MainThread': missing ScriptRunContext! This warning can be ignored when running in bare mode.\n"
     ]
    },
    {
     "data": {
      "text/plain": [
       "DeltaGenerator()"
      ]
     },
     "execution_count": 43,
     "metadata": {},
     "output_type": "execute_result"
    }
   ],
   "source": [
    "# !pip install -U streamlit streamlit-jupyter geopy pandas pydeck\n",
    "\n",
    "# 1) Patch Streamlit to render inside Jupyter (must run before importing streamlit)\n",
    "from streamlit_jupyter import StreamlitPatcher\n",
    "StreamlitPatcher().jupyter()\n",
    "\n",
    "# 2) Imports\n",
    "import streamlit as st\n",
    "import pandas as pd\n",
    "import pydeck as pdk\n",
    "\n",
    "# --- Your data here ---\n",
    "# If you already have lat/lon columns, just build df with those and skip geocoding.\n",
    "\n",
    "df = pd.DataFrame(data)\n",
    "\n",
    "# --- OPTIONAL: Geocode if lat/lon missing ---\n",
    "if not {\"lat\",\"lon\"}.issubset(df.columns):\n",
    "    from geopy.geocoders import Nominatim\n",
    "    import time\n",
    "    from functools import lru_cache\n",
    "\n",
    "    geolocator = Nominatim(user_agent=\"nl-places-mapper\")\n",
    "\n",
    "    @lru_cache(maxsize=None)\n",
    "    def geocode_place(plaats):\n",
    "        loc = geolocator.geocode(f\"{plaats}, Nederland\")\n",
    "        return (loc.latitude, loc.longitude) if loc else (None, None)\n",
    "\n",
    "    lats, lons = [], []\n",
    "    for plaats in df[\"Plaats_RechtsPersoon\"]:\n",
    "        lat, lon = geocode_place(str(plaats))\n",
    "        lats.append(lat); lons.append(lon)\n",
    "        time.sleep(1)  # be polite to the free OSM service\n",
    "    df[\"lat\"] = lats\n",
    "    df[\"lon\"] = lons\n",
    "\n",
    "# Clean rows without coords\n",
    "points = df.dropna(subset=[\"lat\",\"lon\"]).copy()\n",
    "\n",
    "# 3) Center the view on the Netherlands and plot each row\n",
    "st.title(\"Kaart van Nederland – punten per rij\")\n",
    "view_state = pdk.ViewState(latitude=52.1, longitude=5.3, zoom=6)\n",
    "\n",
    "layer = pdk.Layer(\n",
    "    \"ScatterplotLayer\",\n",
    "    data=points,\n",
    "    get_position='[lon, lat]',\n",
    "    get_radius=6000,        # ~6 km radius marker\n",
    "    pickable=True,\n",
    ")\n",
    "\n",
    "tooltip = {\"text\": \"{Plaats_RechtsPersoon}\\n({lat}, {lon})\"}\n",
    "\n",
    "st.pydeck_chart(\n",
    "    pdk.Deck(\n",
    "        layers=[layer],\n",
    "        initial_view_state=view_state,\n",
    "        tooltip=tooltip,\n",
    "        map_style=\"light\",\n",
    "    )\n",
    ")"
   ]
  },
  {
   "cell_type": "code",
   "execution_count": 47,
   "id": "e1e5cac3-3df8-4bf9-83a2-30d306ca2d1a",
   "metadata": {},
   "outputs": [
    {
     "data": {
      "application/vnd.plotly.v1+json": {
       "config": {
        "plotlyServerURL": "https://plot.ly"
       },
       "data": [
        {
         "hovertemplate": "<b>%{hovertext}</b><br><br>lat=%{lat}<br>lon=%{lon}<extra></extra>",
         "hovertext": [
          "Terborg",
          "Broek op Langedijk",
          "Amsterdam",
          "Breda",
          "Amstelveen",
          "Midlaren",
          "Tilburg",
          "Naaldwijk",
          "Bennekom",
          "Tilburg",
          "Hoorn"
         ],
         "lat": {
          "bdata": "I7CDlOn1SUDh62tdalZKQAJnhBLBL0pAJPJdSl3LSUCnhBbIoiRKQI4IIXsYjkpAyvcxi/XKSUAWcCqtGv9JQEbSbvQxAEpAyvcxi/XKSUA+srlqnlNKQA==",
          "dtype": "f8"
         },
         "legendgroup": "",
         "lon": {
          "bdata": "+LXkpydyGUDUcIBPYjYTQOfQ2E3fkRNABK/x9KUaE0BF1OnlHGkTQHNBIhIqtRpA8xXupqVDFEA9L3DUZdQQQIDjIUIStBZA8xXupqVDFEBWiKKbWEsUQA==",
          "dtype": "f8"
         },
         "marker": {
          "color": "#636efa"
         },
         "mode": "markers",
         "name": "",
         "showlegend": false,
         "subplot": "map",
         "type": "scattermap"
        }
       ],
       "layout": {
        "legend": {
         "tracegroupgap": 0
        },
        "map": {
         "center": {
          "lat": 52.1,
          "lon": 5.3
         },
         "domain": {
          "x": [
           0,
           1
          ],
          "y": [
           0,
           1
          ]
         },
         "style": "open-street-map",
         "zoom": 6
        },
        "mapbox": {
         "center": {
          "lat": 52.1,
          "lon": 5.3
         },
         "style": "open-street-map",
         "zoom": 6
        },
        "margin": {
         "b": 0,
         "l": 0,
         "r": 0,
         "t": 0
        },
        "template": {
         "data": {
          "bar": [
           {
            "error_x": {
             "color": "#2a3f5f"
            },
            "error_y": {
             "color": "#2a3f5f"
            },
            "marker": {
             "line": {
              "color": "#E5ECF6",
              "width": 0.5
             },
             "pattern": {
              "fillmode": "overlay",
              "size": 10,
              "solidity": 0.2
             }
            },
            "type": "bar"
           }
          ],
          "barpolar": [
           {
            "marker": {
             "line": {
              "color": "#E5ECF6",
              "width": 0.5
             },
             "pattern": {
              "fillmode": "overlay",
              "size": 10,
              "solidity": 0.2
             }
            },
            "type": "barpolar"
           }
          ],
          "carpet": [
           {
            "aaxis": {
             "endlinecolor": "#2a3f5f",
             "gridcolor": "white",
             "linecolor": "white",
             "minorgridcolor": "white",
             "startlinecolor": "#2a3f5f"
            },
            "baxis": {
             "endlinecolor": "#2a3f5f",
             "gridcolor": "white",
             "linecolor": "white",
             "minorgridcolor": "white",
             "startlinecolor": "#2a3f5f"
            },
            "type": "carpet"
           }
          ],
          "choropleth": [
           {
            "colorbar": {
             "outlinewidth": 0,
             "ticks": ""
            },
            "type": "choropleth"
           }
          ],
          "contour": [
           {
            "colorbar": {
             "outlinewidth": 0,
             "ticks": ""
            },
            "colorscale": [
             [
              0,
              "#0d0887"
             ],
             [
              0.1111111111111111,
              "#46039f"
             ],
             [
              0.2222222222222222,
              "#7201a8"
             ],
             [
              0.3333333333333333,
              "#9c179e"
             ],
             [
              0.4444444444444444,
              "#bd3786"
             ],
             [
              0.5555555555555556,
              "#d8576b"
             ],
             [
              0.6666666666666666,
              "#ed7953"
             ],
             [
              0.7777777777777778,
              "#fb9f3a"
             ],
             [
              0.8888888888888888,
              "#fdca26"
             ],
             [
              1,
              "#f0f921"
             ]
            ],
            "type": "contour"
           }
          ],
          "contourcarpet": [
           {
            "colorbar": {
             "outlinewidth": 0,
             "ticks": ""
            },
            "type": "contourcarpet"
           }
          ],
          "heatmap": [
           {
            "colorbar": {
             "outlinewidth": 0,
             "ticks": ""
            },
            "colorscale": [
             [
              0,
              "#0d0887"
             ],
             [
              0.1111111111111111,
              "#46039f"
             ],
             [
              0.2222222222222222,
              "#7201a8"
             ],
             [
              0.3333333333333333,
              "#9c179e"
             ],
             [
              0.4444444444444444,
              "#bd3786"
             ],
             [
              0.5555555555555556,
              "#d8576b"
             ],
             [
              0.6666666666666666,
              "#ed7953"
             ],
             [
              0.7777777777777778,
              "#fb9f3a"
             ],
             [
              0.8888888888888888,
              "#fdca26"
             ],
             [
              1,
              "#f0f921"
             ]
            ],
            "type": "heatmap"
           }
          ],
          "histogram": [
           {
            "marker": {
             "pattern": {
              "fillmode": "overlay",
              "size": 10,
              "solidity": 0.2
             }
            },
            "type": "histogram"
           }
          ],
          "histogram2d": [
           {
            "colorbar": {
             "outlinewidth": 0,
             "ticks": ""
            },
            "colorscale": [
             [
              0,
              "#0d0887"
             ],
             [
              0.1111111111111111,
              "#46039f"
             ],
             [
              0.2222222222222222,
              "#7201a8"
             ],
             [
              0.3333333333333333,
              "#9c179e"
             ],
             [
              0.4444444444444444,
              "#bd3786"
             ],
             [
              0.5555555555555556,
              "#d8576b"
             ],
             [
              0.6666666666666666,
              "#ed7953"
             ],
             [
              0.7777777777777778,
              "#fb9f3a"
             ],
             [
              0.8888888888888888,
              "#fdca26"
             ],
             [
              1,
              "#f0f921"
             ]
            ],
            "type": "histogram2d"
           }
          ],
          "histogram2dcontour": [
           {
            "colorbar": {
             "outlinewidth": 0,
             "ticks": ""
            },
            "colorscale": [
             [
              0,
              "#0d0887"
             ],
             [
              0.1111111111111111,
              "#46039f"
             ],
             [
              0.2222222222222222,
              "#7201a8"
             ],
             [
              0.3333333333333333,
              "#9c179e"
             ],
             [
              0.4444444444444444,
              "#bd3786"
             ],
             [
              0.5555555555555556,
              "#d8576b"
             ],
             [
              0.6666666666666666,
              "#ed7953"
             ],
             [
              0.7777777777777778,
              "#fb9f3a"
             ],
             [
              0.8888888888888888,
              "#fdca26"
             ],
             [
              1,
              "#f0f921"
             ]
            ],
            "type": "histogram2dcontour"
           }
          ],
          "mesh3d": [
           {
            "colorbar": {
             "outlinewidth": 0,
             "ticks": ""
            },
            "type": "mesh3d"
           }
          ],
          "parcoords": [
           {
            "line": {
             "colorbar": {
              "outlinewidth": 0,
              "ticks": ""
             }
            },
            "type": "parcoords"
           }
          ],
          "pie": [
           {
            "automargin": true,
            "type": "pie"
           }
          ],
          "scatter": [
           {
            "fillpattern": {
             "fillmode": "overlay",
             "size": 10,
             "solidity": 0.2
            },
            "type": "scatter"
           }
          ],
          "scatter3d": [
           {
            "line": {
             "colorbar": {
              "outlinewidth": 0,
              "ticks": ""
             }
            },
            "marker": {
             "colorbar": {
              "outlinewidth": 0,
              "ticks": ""
             }
            },
            "type": "scatter3d"
           }
          ],
          "scattercarpet": [
           {
            "marker": {
             "colorbar": {
              "outlinewidth": 0,
              "ticks": ""
             }
            },
            "type": "scattercarpet"
           }
          ],
          "scattergeo": [
           {
            "marker": {
             "colorbar": {
              "outlinewidth": 0,
              "ticks": ""
             }
            },
            "type": "scattergeo"
           }
          ],
          "scattergl": [
           {
            "marker": {
             "colorbar": {
              "outlinewidth": 0,
              "ticks": ""
             }
            },
            "type": "scattergl"
           }
          ],
          "scattermap": [
           {
            "marker": {
             "colorbar": {
              "outlinewidth": 0,
              "ticks": ""
             }
            },
            "type": "scattermap"
           }
          ],
          "scattermapbox": [
           {
            "marker": {
             "colorbar": {
              "outlinewidth": 0,
              "ticks": ""
             }
            },
            "type": "scattermapbox"
           }
          ],
          "scatterpolar": [
           {
            "marker": {
             "colorbar": {
              "outlinewidth": 0,
              "ticks": ""
             }
            },
            "type": "scatterpolar"
           }
          ],
          "scatterpolargl": [
           {
            "marker": {
             "colorbar": {
              "outlinewidth": 0,
              "ticks": ""
             }
            },
            "type": "scatterpolargl"
           }
          ],
          "scatterternary": [
           {
            "marker": {
             "colorbar": {
              "outlinewidth": 0,
              "ticks": ""
             }
            },
            "type": "scatterternary"
           }
          ],
          "surface": [
           {
            "colorbar": {
             "outlinewidth": 0,
             "ticks": ""
            },
            "colorscale": [
             [
              0,
              "#0d0887"
             ],
             [
              0.1111111111111111,
              "#46039f"
             ],
             [
              0.2222222222222222,
              "#7201a8"
             ],
             [
              0.3333333333333333,
              "#9c179e"
             ],
             [
              0.4444444444444444,
              "#bd3786"
             ],
             [
              0.5555555555555556,
              "#d8576b"
             ],
             [
              0.6666666666666666,
              "#ed7953"
             ],
             [
              0.7777777777777778,
              "#fb9f3a"
             ],
             [
              0.8888888888888888,
              "#fdca26"
             ],
             [
              1,
              "#f0f921"
             ]
            ],
            "type": "surface"
           }
          ],
          "table": [
           {
            "cells": {
             "fill": {
              "color": "#EBF0F8"
             },
             "line": {
              "color": "white"
             }
            },
            "header": {
             "fill": {
              "color": "#C8D4E3"
             },
             "line": {
              "color": "white"
             }
            },
            "type": "table"
           }
          ]
         },
         "layout": {
          "annotationdefaults": {
           "arrowcolor": "#2a3f5f",
           "arrowhead": 0,
           "arrowwidth": 1
          },
          "autotypenumbers": "strict",
          "coloraxis": {
           "colorbar": {
            "outlinewidth": 0,
            "ticks": ""
           }
          },
          "colorscale": {
           "diverging": [
            [
             0,
             "#8e0152"
            ],
            [
             0.1,
             "#c51b7d"
            ],
            [
             0.2,
             "#de77ae"
            ],
            [
             0.3,
             "#f1b6da"
            ],
            [
             0.4,
             "#fde0ef"
            ],
            [
             0.5,
             "#f7f7f7"
            ],
            [
             0.6,
             "#e6f5d0"
            ],
            [
             0.7,
             "#b8e186"
            ],
            [
             0.8,
             "#7fbc41"
            ],
            [
             0.9,
             "#4d9221"
            ],
            [
             1,
             "#276419"
            ]
           ],
           "sequential": [
            [
             0,
             "#0d0887"
            ],
            [
             0.1111111111111111,
             "#46039f"
            ],
            [
             0.2222222222222222,
             "#7201a8"
            ],
            [
             0.3333333333333333,
             "#9c179e"
            ],
            [
             0.4444444444444444,
             "#bd3786"
            ],
            [
             0.5555555555555556,
             "#d8576b"
            ],
            [
             0.6666666666666666,
             "#ed7953"
            ],
            [
             0.7777777777777778,
             "#fb9f3a"
            ],
            [
             0.8888888888888888,
             "#fdca26"
            ],
            [
             1,
             "#f0f921"
            ]
           ],
           "sequentialminus": [
            [
             0,
             "#0d0887"
            ],
            [
             0.1111111111111111,
             "#46039f"
            ],
            [
             0.2222222222222222,
             "#7201a8"
            ],
            [
             0.3333333333333333,
             "#9c179e"
            ],
            [
             0.4444444444444444,
             "#bd3786"
            ],
            [
             0.5555555555555556,
             "#d8576b"
            ],
            [
             0.6666666666666666,
             "#ed7953"
            ],
            [
             0.7777777777777778,
             "#fb9f3a"
            ],
            [
             0.8888888888888888,
             "#fdca26"
            ],
            [
             1,
             "#f0f921"
            ]
           ]
          },
          "colorway": [
           "#636efa",
           "#EF553B",
           "#00cc96",
           "#ab63fa",
           "#FFA15A",
           "#19d3f3",
           "#FF6692",
           "#B6E880",
           "#FF97FF",
           "#FECB52"
          ],
          "font": {
           "color": "#2a3f5f"
          },
          "geo": {
           "bgcolor": "white",
           "lakecolor": "white",
           "landcolor": "#E5ECF6",
           "showlakes": true,
           "showland": true,
           "subunitcolor": "white"
          },
          "hoverlabel": {
           "align": "left"
          },
          "hovermode": "closest",
          "mapbox": {
           "style": "light"
          },
          "paper_bgcolor": "white",
          "plot_bgcolor": "#E5ECF6",
          "polar": {
           "angularaxis": {
            "gridcolor": "white",
            "linecolor": "white",
            "ticks": ""
           },
           "bgcolor": "#E5ECF6",
           "radialaxis": {
            "gridcolor": "white",
            "linecolor": "white",
            "ticks": ""
           }
          },
          "scene": {
           "xaxis": {
            "backgroundcolor": "#E5ECF6",
            "gridcolor": "white",
            "gridwidth": 2,
            "linecolor": "white",
            "showbackground": true,
            "ticks": "",
            "zerolinecolor": "white"
           },
           "yaxis": {
            "backgroundcolor": "#E5ECF6",
            "gridcolor": "white",
            "gridwidth": 2,
            "linecolor": "white",
            "showbackground": true,
            "ticks": "",
            "zerolinecolor": "white"
           },
           "zaxis": {
            "backgroundcolor": "#E5ECF6",
            "gridcolor": "white",
            "gridwidth": 2,
            "linecolor": "white",
            "showbackground": true,
            "ticks": "",
            "zerolinecolor": "white"
           }
          },
          "shapedefaults": {
           "line": {
            "color": "#2a3f5f"
           }
          },
          "ternary": {
           "aaxis": {
            "gridcolor": "white",
            "linecolor": "white",
            "ticks": ""
           },
           "baxis": {
            "gridcolor": "white",
            "linecolor": "white",
            "ticks": ""
           },
           "bgcolor": "#E5ECF6",
           "caxis": {
            "gridcolor": "white",
            "linecolor": "white",
            "ticks": ""
           }
          },
          "title": {
           "x": 0.05
          },
          "xaxis": {
           "automargin": true,
           "gridcolor": "white",
           "linecolor": "white",
           "ticks": "",
           "title": {
            "standoff": 15
           },
           "zerolinecolor": "white",
           "zerolinewidth": 2
          },
          "yaxis": {
           "automargin": true,
           "gridcolor": "white",
           "linecolor": "white",
           "ticks": "",
           "title": {
            "standoff": 15
           },
           "zerolinecolor": "white",
           "zerolinewidth": 2
          }
         }
        }
       }
      }
     },
     "metadata": {},
     "output_type": "display_data"
    }
   ],
   "source": [
    "# pip install plotly pandas\n",
    "import pandas as pd\n",
    "import plotly.express as px\n",
    "\n",
    "\n",
    "fig = px.scatter_map(\n",
    "    df, lat=\"lat\", lon=\"lon\",\n",
    "    hover_name=\"Plaats_RechtsPersoon\",\n",
    "    zoom=6, center={\"lat\": 52.1, \"lon\": 5.3},\n",
    "    map_style=\"open-street-map\"   # andere opties: \"carto-positron\", \"stamen-terrain\", etc.\n",
    ")\n",
    "fig.update_layout(margin=dict(l=0, r=0, t=0, b=0))\n",
    "fig.show()"
   ]
  },
  {
   "cell_type": "code",
   "execution_count": null,
   "id": "e57ebb91-f6bd-4bde-a321-4d4199063005",
   "metadata": {},
   "outputs": [],
   "source": []
  },
  {
   "cell_type": "code",
   "execution_count": 24,
   "id": "2698f13c-02db-4eae-8761-5c915acd7bec",
   "metadata": {},
   "outputs": [
    {
     "data": {
      "text/html": [
       "<div>\n",
       "<style scoped>\n",
       "    .dataframe tbody tr th:only-of-type {\n",
       "        vertical-align: middle;\n",
       "    }\n",
       "\n",
       "    .dataframe tbody tr th {\n",
       "        vertical-align: top;\n",
       "    }\n",
       "\n",
       "    .dataframe thead th {\n",
       "        text-align: right;\n",
       "    }\n",
       "</style>\n",
       "<table border=\"1\" class=\"dataframe\">\n",
       "  <thead>\n",
       "    <tr style=\"text-align: right;\">\n",
       "      <th></th>\n",
       "      <th>Id</th>\n",
       "      <th>KVKNummer</th>\n",
       "      <th>VestigingNummer</th>\n",
       "      <th>LaatstGewijzigdTijdstip_MA</th>\n",
       "      <th>HoofdNevenVestiging</th>\n",
       "      <th>Actief</th>\n",
       "      <th>Indicator_Onderneming</th>\n",
       "      <th>Indicator_Vestiging</th>\n",
       "      <th>ImportIndicator</th>\n",
       "      <th>ExportIndicator</th>\n",
       "      <th>...</th>\n",
       "      <th>Gemeente_RechtsPersoon</th>\n",
       "      <th>CoropCode_RechtsPersoon</th>\n",
       "      <th>Corop_RechtsPersoon</th>\n",
       "      <th>Provincie_RechtsPersoon</th>\n",
       "      <th>Regio_RechtsPersoon</th>\n",
       "      <th>KrimpGebied_RechtsPersoon</th>\n",
       "      <th>AnticipeerGebied_RechtsPersoon</th>\n",
       "      <th>IbisPlanNaam_RechtsPersoon</th>\n",
       "      <th>lat</th>\n",
       "      <th>lon</th>\n",
       "    </tr>\n",
       "  </thead>\n",
       "  <tbody>\n",
       "    <tr>\n",
       "      <th>0</th>\n",
       "      <td>1178628</td>\n",
       "      <td>015828107</td>\n",
       "      <td>09867709295</td>\n",
       "      <td>2020-04-28 13:36:07.8710000</td>\n",
       "      <td>Hoofdvestiging</td>\n",
       "      <td>Ja</td>\n",
       "      <td>Ja</td>\n",
       "      <td>Ja</td>\n",
       "      <td>Nee</td>\n",
       "      <td>Nee</td>\n",
       "      <td>...</td>\n",
       "      <td>Amsterdam</td>\n",
       "      <td>CR23</td>\n",
       "      <td>Groot-Amsterdam</td>\n",
       "      <td>Noord-Holland</td>\n",
       "      <td>Noordwest</td>\n",
       "      <td>Nee</td>\n",
       "      <td>Nee</td>\n",
       "      <td>zz - n.v.t./onbekend</td>\n",
       "      <td>52.309344</td>\n",
       "      <td>4.884548</td>\n",
       "    </tr>\n",
       "    <tr>\n",
       "      <th>1</th>\n",
       "      <td>13598565</td>\n",
       "      <td>006451423</td>\n",
       "      <td>03772422261</td>\n",
       "      <td>2022-06-28 13:44:49.0010000</td>\n",
       "      <td>Hoofdvestiging</td>\n",
       "      <td>Nee</td>\n",
       "      <td>Ja</td>\n",
       "      <td>Ja</td>\n",
       "      <td>Nee</td>\n",
       "      <td>Nee</td>\n",
       "      <td>...</td>\n",
       "      <td>Eindhoven</td>\n",
       "      <td>CR36</td>\n",
       "      <td>Zuidoost-Noord-Brabant</td>\n",
       "      <td>Noord-Brabant</td>\n",
       "      <td>Zuid</td>\n",
       "      <td>Nee</td>\n",
       "      <td>Nee</td>\n",
       "      <td>zz - n.v.t./onbekend</td>\n",
       "      <td>51.450731</td>\n",
       "      <td>5.500133</td>\n",
       "    </tr>\n",
       "    <tr>\n",
       "      <th>2</th>\n",
       "      <td>1973929</td>\n",
       "      <td>051804166</td>\n",
       "      <td>03835681349</td>\n",
       "      <td>2022-05-25 12:16:08.2820000</td>\n",
       "      <td>Hoofdvestiging</td>\n",
       "      <td>Ja</td>\n",
       "      <td>Ja</td>\n",
       "      <td>Ja</td>\n",
       "      <td>Nee</td>\n",
       "      <td>Nee</td>\n",
       "      <td>...</td>\n",
       "      <td>Eindhoven</td>\n",
       "      <td>CR36</td>\n",
       "      <td>Zuidoost-Noord-Brabant</td>\n",
       "      <td>Noord-Brabant</td>\n",
       "      <td>Zuid</td>\n",
       "      <td>Nee</td>\n",
       "      <td>Nee</td>\n",
       "      <td>zz - n.v.t./onbekend</td>\n",
       "      <td>51.450962</td>\n",
       "      <td>5.453899</td>\n",
       "    </tr>\n",
       "    <tr>\n",
       "      <th>3</th>\n",
       "      <td>11735140</td>\n",
       "      <td>063572655</td>\n",
       "      <td>07265274934</td>\n",
       "      <td>2018-01-09 14:28:02.7950000</td>\n",
       "      <td>Hoofdvestiging</td>\n",
       "      <td>Nee</td>\n",
       "      <td>Ja</td>\n",
       "      <td>Ja</td>\n",
       "      <td>Nee</td>\n",
       "      <td>Nee</td>\n",
       "      <td>...</td>\n",
       "      <td>Rotterdam</td>\n",
       "      <td>CR29</td>\n",
       "      <td>Groot-Rijnmond</td>\n",
       "      <td>Zuid-Holland</td>\n",
       "      <td>Zuidwest</td>\n",
       "      <td>Nee</td>\n",
       "      <td>Nee</td>\n",
       "      <td>zz - n.v.t./onbekend</td>\n",
       "      <td>51.920720</td>\n",
       "      <td>4.433812</td>\n",
       "    </tr>\n",
       "    <tr>\n",
       "      <th>4</th>\n",
       "      <td>13583448</td>\n",
       "      <td>040644122</td>\n",
       "      <td>07089340237</td>\n",
       "      <td>2019-08-12 11:18:54.0690000</td>\n",
       "      <td>Hoofdvestiging</td>\n",
       "      <td>Nee</td>\n",
       "      <td>Ja</td>\n",
       "      <td>Ja</td>\n",
       "      <td>Nee</td>\n",
       "      <td>Nee</td>\n",
       "      <td>...</td>\n",
       "      <td>Amsterdam</td>\n",
       "      <td>CR23</td>\n",
       "      <td>Groot-Amsterdam</td>\n",
       "      <td>Noord-Holland</td>\n",
       "      <td>Noordwest</td>\n",
       "      <td>Nee</td>\n",
       "      <td>Nee</td>\n",
       "      <td>zz - n.v.t./onbekend</td>\n",
       "      <td>52.318757</td>\n",
       "      <td>4.919727</td>\n",
       "    </tr>\n",
       "    <tr>\n",
       "      <th>...</th>\n",
       "      <td>...</td>\n",
       "      <td>...</td>\n",
       "      <td>...</td>\n",
       "      <td>...</td>\n",
       "      <td>...</td>\n",
       "      <td>...</td>\n",
       "      <td>...</td>\n",
       "      <td>...</td>\n",
       "      <td>...</td>\n",
       "      <td>...</td>\n",
       "      <td>...</td>\n",
       "      <td>...</td>\n",
       "      <td>...</td>\n",
       "      <td>...</td>\n",
       "      <td>...</td>\n",
       "      <td>...</td>\n",
       "      <td>...</td>\n",
       "      <td>...</td>\n",
       "      <td>...</td>\n",
       "      <td>...</td>\n",
       "      <td>...</td>\n",
       "    </tr>\n",
       "    <tr>\n",
       "      <th>95</th>\n",
       "      <td>5142755</td>\n",
       "      <td>010224535</td>\n",
       "      <td>03201183102</td>\n",
       "      <td>2014-04-12 10:38:36.0710000</td>\n",
       "      <td>Hoofdvestiging</td>\n",
       "      <td>Ja</td>\n",
       "      <td>Ja</td>\n",
       "      <td>Ja</td>\n",
       "      <td>Nee</td>\n",
       "      <td>Nee</td>\n",
       "      <td>...</td>\n",
       "      <td>Rotterdam</td>\n",
       "      <td>CR29</td>\n",
       "      <td>Groot-Rijnmond</td>\n",
       "      <td>Zuid-Holland</td>\n",
       "      <td>Zuidwest</td>\n",
       "      <td>Nee</td>\n",
       "      <td>Nee</td>\n",
       "      <td>zz - n.v.t./onbekend</td>\n",
       "      <td>51.917944</td>\n",
       "      <td>4.507244</td>\n",
       "    </tr>\n",
       "    <tr>\n",
       "      <th>96</th>\n",
       "      <td>12864416</td>\n",
       "      <td>040222651</td>\n",
       "      <td>00684178136</td>\n",
       "      <td>2013-12-24 14:51:01.9150000</td>\n",
       "      <td>Hoofdvestiging</td>\n",
       "      <td>Nee</td>\n",
       "      <td>Ja</td>\n",
       "      <td>Ja</td>\n",
       "      <td>Nee</td>\n",
       "      <td>Nee</td>\n",
       "      <td>...</td>\n",
       "      <td>Rotterdam</td>\n",
       "      <td>CR29</td>\n",
       "      <td>Groot-Rijnmond</td>\n",
       "      <td>Zuid-Holland</td>\n",
       "      <td>Zuidwest</td>\n",
       "      <td>Nee</td>\n",
       "      <td>Nee</td>\n",
       "      <td>Spaanse Polder</td>\n",
       "      <td>51.929273</td>\n",
       "      <td>4.382260</td>\n",
       "    </tr>\n",
       "    <tr>\n",
       "      <th>97</th>\n",
       "      <td>6506232</td>\n",
       "      <td>059143663</td>\n",
       "      <td>08046332552</td>\n",
       "      <td>2022-05-19 10:07:27.1120000</td>\n",
       "      <td>Hoofdvestiging</td>\n",
       "      <td>Ja</td>\n",
       "      <td>Ja</td>\n",
       "      <td>Ja</td>\n",
       "      <td>Nee</td>\n",
       "      <td>Nee</td>\n",
       "      <td>...</td>\n",
       "      <td>Rotterdam</td>\n",
       "      <td>CR29</td>\n",
       "      <td>Groot-Rijnmond</td>\n",
       "      <td>Zuid-Holland</td>\n",
       "      <td>Zuidwest</td>\n",
       "      <td>Nee</td>\n",
       "      <td>Nee</td>\n",
       "      <td>zz - n.v.t./onbekend</td>\n",
       "      <td>51.954197</td>\n",
       "      <td>4.517555</td>\n",
       "    </tr>\n",
       "    <tr>\n",
       "      <th>98</th>\n",
       "      <td>12063778</td>\n",
       "      <td>098257259</td>\n",
       "      <td>05704011800</td>\n",
       "      <td>2021-09-22 09:06:48.8030000</td>\n",
       "      <td>Hoofdvestiging</td>\n",
       "      <td>Nee</td>\n",
       "      <td>Ja</td>\n",
       "      <td>Ja</td>\n",
       "      <td>Nee</td>\n",
       "      <td>Nee</td>\n",
       "      <td>...</td>\n",
       "      <td>Rotterdam</td>\n",
       "      <td>CR29</td>\n",
       "      <td>Groot-Rijnmond</td>\n",
       "      <td>Zuid-Holland</td>\n",
       "      <td>Zuidwest</td>\n",
       "      <td>Nee</td>\n",
       "      <td>Nee</td>\n",
       "      <td>zz - n.v.t./onbekend</td>\n",
       "      <td>51.916851</td>\n",
       "      <td>4.565595</td>\n",
       "    </tr>\n",
       "    <tr>\n",
       "      <th>99</th>\n",
       "      <td>7963440</td>\n",
       "      <td>059839542</td>\n",
       "      <td>05397637778</td>\n",
       "      <td>2021-11-09 14:26:06.0940000</td>\n",
       "      <td>Hoofdvestiging</td>\n",
       "      <td>Ja</td>\n",
       "      <td>Ja</td>\n",
       "      <td>Ja</td>\n",
       "      <td>Nee</td>\n",
       "      <td>Nee</td>\n",
       "      <td>...</td>\n",
       "      <td>Rotterdam</td>\n",
       "      <td>CR29</td>\n",
       "      <td>Groot-Rijnmond</td>\n",
       "      <td>Zuid-Holland</td>\n",
       "      <td>Zuidwest</td>\n",
       "      <td>Nee</td>\n",
       "      <td>Nee</td>\n",
       "      <td>zz - n.v.t./onbekend</td>\n",
       "      <td>51.872528</td>\n",
       "      <td>4.437903</td>\n",
       "    </tr>\n",
       "  </tbody>\n",
       "</table>\n",
       "<p>100 rows × 62 columns</p>\n",
       "</div>"
      ],
      "text/plain": [
       "          Id  KVKNummer VestigingNummer   LaatstGewijzigdTijdstip_MA  \\\n",
       "0    1178628  015828107     09867709295  2020-04-28 13:36:07.8710000   \n",
       "1   13598565  006451423     03772422261  2022-06-28 13:44:49.0010000   \n",
       "2    1973929  051804166     03835681349  2022-05-25 12:16:08.2820000   \n",
       "3   11735140  063572655     07265274934  2018-01-09 14:28:02.7950000   \n",
       "4   13583448  040644122     07089340237  2019-08-12 11:18:54.0690000   \n",
       "..       ...        ...             ...                          ...   \n",
       "95   5142755  010224535     03201183102  2014-04-12 10:38:36.0710000   \n",
       "96  12864416  040222651     00684178136  2013-12-24 14:51:01.9150000   \n",
       "97   6506232  059143663     08046332552  2022-05-19 10:07:27.1120000   \n",
       "98  12063778  098257259     05704011800  2021-09-22 09:06:48.8030000   \n",
       "99   7963440  059839542     05397637778  2021-11-09 14:26:06.0940000   \n",
       "\n",
       "   HoofdNevenVestiging Actief Indicator_Onderneming Indicator_Vestiging  \\\n",
       "0       Hoofdvestiging     Ja                    Ja                  Ja   \n",
       "1       Hoofdvestiging    Nee                    Ja                  Ja   \n",
       "2       Hoofdvestiging     Ja                    Ja                  Ja   \n",
       "3       Hoofdvestiging    Nee                    Ja                  Ja   \n",
       "4       Hoofdvestiging    Nee                    Ja                  Ja   \n",
       "..                 ...    ...                   ...                 ...   \n",
       "95      Hoofdvestiging     Ja                    Ja                  Ja   \n",
       "96      Hoofdvestiging    Nee                    Ja                  Ja   \n",
       "97      Hoofdvestiging     Ja                    Ja                  Ja   \n",
       "98      Hoofdvestiging    Nee                    Ja                  Ja   \n",
       "99      Hoofdvestiging     Ja                    Ja                  Ja   \n",
       "\n",
       "   ImportIndicator ExportIndicator  ... Gemeente_RechtsPersoon  \\\n",
       "0              Nee             Nee  ...              Amsterdam   \n",
       "1              Nee             Nee  ...              Eindhoven   \n",
       "2              Nee             Nee  ...              Eindhoven   \n",
       "3              Nee             Nee  ...              Rotterdam   \n",
       "4              Nee             Nee  ...              Amsterdam   \n",
       "..             ...             ...  ...                    ...   \n",
       "95             Nee             Nee  ...              Rotterdam   \n",
       "96             Nee             Nee  ...              Rotterdam   \n",
       "97             Nee             Nee  ...              Rotterdam   \n",
       "98             Nee             Nee  ...              Rotterdam   \n",
       "99             Nee             Nee  ...              Rotterdam   \n",
       "\n",
       "   CoropCode_RechtsPersoon     Corop_RechtsPersoon  Provincie_RechtsPersoon  \\\n",
       "0                     CR23         Groot-Amsterdam            Noord-Holland   \n",
       "1                     CR36  Zuidoost-Noord-Brabant            Noord-Brabant   \n",
       "2                     CR36  Zuidoost-Noord-Brabant            Noord-Brabant   \n",
       "3                     CR29          Groot-Rijnmond             Zuid-Holland   \n",
       "4                     CR23         Groot-Amsterdam            Noord-Holland   \n",
       "..                     ...                     ...                      ...   \n",
       "95                    CR29          Groot-Rijnmond             Zuid-Holland   \n",
       "96                    CR29          Groot-Rijnmond             Zuid-Holland   \n",
       "97                    CR29          Groot-Rijnmond             Zuid-Holland   \n",
       "98                    CR29          Groot-Rijnmond             Zuid-Holland   \n",
       "99                    CR29          Groot-Rijnmond             Zuid-Holland   \n",
       "\n",
       "    Regio_RechtsPersoon  KrimpGebied_RechtsPersoon  \\\n",
       "0             Noordwest                        Nee   \n",
       "1                  Zuid                        Nee   \n",
       "2                  Zuid                        Nee   \n",
       "3              Zuidwest                        Nee   \n",
       "4             Noordwest                        Nee   \n",
       "..                  ...                        ...   \n",
       "95             Zuidwest                        Nee   \n",
       "96             Zuidwest                        Nee   \n",
       "97             Zuidwest                        Nee   \n",
       "98             Zuidwest                        Nee   \n",
       "99             Zuidwest                        Nee   \n",
       "\n",
       "   AnticipeerGebied_RechtsPersoon  IbisPlanNaam_RechtsPersoon        lat  \\\n",
       "0                             Nee        zz - n.v.t./onbekend  52.309344   \n",
       "1                             Nee        zz - n.v.t./onbekend  51.450731   \n",
       "2                             Nee        zz - n.v.t./onbekend  51.450962   \n",
       "3                             Nee        zz - n.v.t./onbekend  51.920720   \n",
       "4                             Nee        zz - n.v.t./onbekend  52.318757   \n",
       "..                            ...                         ...        ...   \n",
       "95                            Nee        zz - n.v.t./onbekend  51.917944   \n",
       "96                            Nee              Spaanse Polder  51.929273   \n",
       "97                            Nee        zz - n.v.t./onbekend  51.954197   \n",
       "98                            Nee        zz - n.v.t./onbekend  51.916851   \n",
       "99                            Nee        zz - n.v.t./onbekend  51.872528   \n",
       "\n",
       "         lon  \n",
       "0   4.884548  \n",
       "1   5.500133  \n",
       "2   5.453899  \n",
       "3   4.433812  \n",
       "4   4.919727  \n",
       "..       ...  \n",
       "95  4.507244  \n",
       "96  4.382260  \n",
       "97  4.517555  \n",
       "98  4.565595  \n",
       "99  4.437903  \n",
       "\n",
       "[100 rows x 62 columns]"
      ]
     },
     "execution_count": 24,
     "metadata": {},
     "output_type": "execute_result"
    }
   ],
   "source": [
    "df"
   ]
  },
  {
   "cell_type": "code",
   "execution_count": null,
   "id": "4bf54af9-0a64-4b16-94f2-a069af59945b",
   "metadata": {},
   "outputs": [],
   "source": []
  }
 ],
 "metadata": {
  "kernelspec": {
   "display_name": "Python 3 (ipykernel)",
   "language": "python",
   "name": "python3"
  },
  "language_info": {
   "codemirror_mode": {
    "name": "ipython",
    "version": 3
   },
   "file_extension": ".py",
   "mimetype": "text/x-python",
   "name": "python",
   "nbconvert_exporter": "python",
   "pygments_lexer": "ipython3",
   "version": "3.10.10"
  }
 },
 "nbformat": 4,
 "nbformat_minor": 5
}
